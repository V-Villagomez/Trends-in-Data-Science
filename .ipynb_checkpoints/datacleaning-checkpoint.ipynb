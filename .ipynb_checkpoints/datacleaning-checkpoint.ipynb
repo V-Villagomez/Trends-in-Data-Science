{
 "cells": [
  {
   "cell_type": "code",
   "execution_count": 1,
   "id": "f51b5eb4",
   "metadata": {},
   "outputs": [],
   "source": [
    "import pandas as pd"
   ]
  },
  {
   "cell_type": "code",
   "execution_count": 3,
   "id": "c256859a",
   "metadata": {},
   "outputs": [],
   "source": [
    "data_df = pd.read_csv(\"Data/DataScientist (1).csv\")"
   ]
  },
  {
   "cell_type": "code",
   "execution_count": 4,
   "id": "00a3f57f",
   "metadata": {},
   "outputs": [
    {
     "name": "stderr",
     "output_type": "stream",
     "text": [
      "<ipython-input-4-35f09c2e3530>:1: FutureWarning: The default value of regex will change from True to False in a future version.\n",
      "  data_df[\"Salary Estimate\"]=data_df[\"Salary Estimate\"].str.replace(\"[$]\",\"\")\n"
     ]
    }
   ],
   "source": [
    "data_df[\"Salary Estimate\"]=data_df[\"Salary Estimate\"].str.replace(\"[$]\",\"\")"
   ]
  },
  {
   "cell_type": "code",
   "execution_count": 5,
   "id": "0065553e",
   "metadata": {},
   "outputs": [],
   "source": [
    "data_df[\"Salary Estimate\"] = (data_df[\"Salary Estimate\"].replace(r'[KM]+$', '', regex=True).astype(float) * \\\n",
    "              data_df[\"Salary Estimate\"].str.extract(r'[\\d\\.]+([KM]+)', expand=False)\n",
    "                .fillna(1)\n",
    "                .replace(['K'], [10**3]).astype(int))"
   ]
  },
  {
   "cell_type": "code",
   "execution_count": 6,
   "id": "8f43dfcf",
   "metadata": {},
   "outputs": [
    {
     "name": "stderr",
     "output_type": "stream",
     "text": [
      "<ipython-input-6-cd954a6e308d>:1: FutureWarning: The default value of regex will change from True to False in a future version. In addition, single character regular expressions will*not* be treated as literal strings when regex=True.\n",
      "  data_df[\"Unnamed: 4\"]=data_df[\"Unnamed: 4\"].str.replace(\"$\",\"\")\n"
     ]
    }
   ],
   "source": [
    "data_df[\"Unnamed: 4\"]=data_df[\"Unnamed: 4\"].str.replace(\"$\",\"\")\n"
   ]
  },
  {
   "cell_type": "code",
   "execution_count": 7,
   "id": "e8c05851",
   "metadata": {},
   "outputs": [
    {
     "name": "stderr",
     "output_type": "stream",
     "text": [
      "<ipython-input-7-83bad875534d>:1: FutureWarning: The default value of regex will change from True to False in a future version.\n",
      "  data_df[\"Unnamed: 4\"]=data_df[\"Unnamed: 4\"].str.replace(\"[(Glassdoor est.)]\",\"\")\n"
     ]
    }
   ],
   "source": [
    "data_df[\"Unnamed: 4\"]=data_df[\"Unnamed: 4\"].str.replace(\"[(Glassdoor est.)]\",\"\")"
   ]
  },
  {
   "cell_type": "code",
   "execution_count": 8,
   "id": "227e1ea5",
   "metadata": {},
   "outputs": [],
   "source": [
    "data_df[\"Unnamed: 4\"] = (data_df[\"Unnamed: 4\"].replace(r'[KM]+$', '', regex=True).astype(float) * \\\n",
    "              data_df[\"Unnamed: 4\"].str.extract(r'[\\d\\.]+([KM]+)', expand=False)\n",
    "                .fillna(1)\n",
    "                .replace(['K'], [10**3]).astype(int))"
   ]
  },
  {
   "cell_type": "code",
   "execution_count": 9,
   "id": "a0dd94ef",
   "metadata": {},
   "outputs": [],
   "source": [
    "data_df\n",
    "data_df['avg Salary'] = data_df[['Salary Estimate', 'Unnamed: 4']].mean(axis=1)"
   ]
  },
  {
   "cell_type": "code",
   "execution_count": 10,
   "id": "03b9ba01",
   "metadata": {},
   "outputs": [],
   "source": [
    "data_df['avg size']=data_df[['size1','size2']].mean(axis=1)"
   ]
  },
  {
   "cell_type": "code",
   "execution_count": 13,
   "id": "fba0fb9f",
   "metadata": {},
   "outputs": [],
   "source": [
    "data_clean_df = data_df[[\"Job Title\",\"Rating\",\"Company Name\",\"Location\",\"Sector\",\"avg Salary\", \"avg size\",\"Founded\"]]"
   ]
  },
  {
   "cell_type": "code",
   "execution_count": 15,
   "id": "4544d52e",
   "metadata": {},
   "outputs": [],
   "source": [
    "data_clean_df.to_csv(\"Data/data_clean.csv\")"
   ]
  },
  {
   "cell_type": "code",
   "execution_count": null,
   "id": "9edde405-f617-4ac9-bcb3-275037948316",
   "metadata": {},
   "outputs": [],
   "source": []
  }
 ],
 "metadata": {
  "kernelspec": {
   "display_name": "Python 3",
   "language": "python",
   "name": "python3"
  },
  "language_info": {
   "codemirror_mode": {
    "name": "ipython",
    "version": 3
   },
   "file_extension": ".py",
   "mimetype": "text/x-python",
   "name": "python",
   "nbconvert_exporter": "python",
   "pygments_lexer": "ipython3",
   "version": "3.8.8"
  }
 },
 "nbformat": 4,
 "nbformat_minor": 5
}
