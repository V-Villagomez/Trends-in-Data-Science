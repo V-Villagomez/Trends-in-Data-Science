{
 "cells": [
  {
   "cell_type": "code",
   "execution_count": 1,
   "id": "f51b5eb4",
   "metadata": {},
   "outputs": [],
   "source": [
    "import pandas as pd"
   ]
  },
  {
   "cell_type": "code",
   "execution_count": 2,
   "id": "c256859a",
   "metadata": {},
   "outputs": [],
   "source": [
    "data_df = pd.read_csv(\"Data/DataScientist (1).csv\")"
   ]
  },
  {
   "cell_type": "code",
   "execution_count": 3,
   "id": "f5cd1b75-c1bd-403d-a11c-0890132ebd70",
   "metadata": {},
   "outputs": [],
   "source": [
    "geo_df = pd.read_csv(\"data/geo.csv\")\n"
   ]
  },
  {
   "cell_type": "code",
   "execution_count": 4,
   "id": "d55ac39e",
   "metadata": {},
   "outputs": [],
   "source": [
    "data_df[\"state\"]=data_df[\"state\"].str.strip()\n",
    "geo_df[\"state\"]=geo_df[\"state\"].str.strip()"
   ]
  },
  {
   "cell_type": "code",
   "execution_count": 5,
   "id": "00a3f57f",
   "metadata": {},
   "outputs": [
    {
     "name": "stderr",
     "output_type": "stream",
     "text": [
      "<ipython-input-5-35f09c2e3530>:1: FutureWarning: The default value of regex will change from True to False in a future version.\n",
      "  data_df[\"Salary Estimate\"]=data_df[\"Salary Estimate\"].str.replace(\"[$]\",\"\")\n"
     ]
    }
   ],
   "source": [
    "data_df[\"Salary Estimate\"]=data_df[\"Salary Estimate\"].str.replace(\"[$]\",\"\")"
   ]
  },
  {
   "cell_type": "code",
   "execution_count": 6,
   "id": "0065553e",
   "metadata": {},
   "outputs": [],
   "source": [
    "data_df[\"Salary Estimate\"] = (data_df[\"Salary Estimate\"].replace(r'[KM]+$', '', regex=True).astype(float) * \\\n",
    "              data_df[\"Salary Estimate\"].str.extract(r'[\\d\\.]+([KM]+)', expand=False)\n",
    "                .fillna(1)\n",
    "                .replace(['K'], [10**3]).astype(int))"
   ]
  },
  {
   "cell_type": "code",
   "execution_count": 7,
   "id": "8f43dfcf",
   "metadata": {},
   "outputs": [
    {
     "name": "stderr",
     "output_type": "stream",
     "text": [
      "<ipython-input-7-cd954a6e308d>:1: FutureWarning: The default value of regex will change from True to False in a future version. In addition, single character regular expressions will*not* be treated as literal strings when regex=True.\n",
      "  data_df[\"Unnamed: 4\"]=data_df[\"Unnamed: 4\"].str.replace(\"$\",\"\")\n"
     ]
    }
   ],
   "source": [
    "data_df[\"Unnamed: 4\"]=data_df[\"Unnamed: 4\"].str.replace(\"$\",\"\")\n"
   ]
  },
  {
   "cell_type": "code",
   "execution_count": 8,
   "id": "e8c05851",
   "metadata": {},
   "outputs": [
    {
     "name": "stderr",
     "output_type": "stream",
     "text": [
      "<ipython-input-8-83bad875534d>:1: FutureWarning: The default value of regex will change from True to False in a future version.\n",
      "  data_df[\"Unnamed: 4\"]=data_df[\"Unnamed: 4\"].str.replace(\"[(Glassdoor est.)]\",\"\")\n"
     ]
    }
   ],
   "source": [
    "data_df[\"Unnamed: 4\"]=data_df[\"Unnamed: 4\"].str.replace(\"[(Glassdoor est.)]\",\"\")"
   ]
  },
  {
   "cell_type": "code",
   "execution_count": 9,
   "id": "227e1ea5",
   "metadata": {},
   "outputs": [],
   "source": [
    "data_df[\"Unnamed: 4\"] = (data_df[\"Unnamed: 4\"].replace(r'[KM]+$', '', regex=True).astype(float) * \\\n",
    "              data_df[\"Unnamed: 4\"].str.extract(r'[\\d\\.]+([KM]+)', expand=False)\n",
    "                .fillna(1)\n",
    "                .replace(['K'], [10**3]).astype(int))"
   ]
  },
  {
   "cell_type": "code",
   "execution_count": 10,
   "id": "a0dd94ef",
   "metadata": {},
   "outputs": [],
   "source": [
    "data_df\n",
    "data_df['avg_Salary'] = data_df[['Salary Estimate', 'Unnamed: 4']].mean(axis=1)"
   ]
  },
  {
   "cell_type": "code",
   "execution_count": 11,
   "id": "03b9ba01",
   "metadata": {},
   "outputs": [],
   "source": [
    "data_df['avg_size']=data_df[['size1','size2']].mean(axis=1)"
   ]
  },
  {
   "cell_type": "code",
   "execution_count": 13,
   "id": "fba0fb9f",
   "metadata": {},
   "outputs": [],
   "source": [
    "data_clean_df = data_df[[\"Job Title\",\"Rating\",\"Company Name\",\"state\",\"Sector\",\"avg_Salary\", \"avg_size\",\"Founded\"]]"
   ]
  },
  {
   "cell_type": "code",
   "execution_count": 14,
   "id": "2c989fdc-2c07-4085-b847-a4f42bfd9730",
   "metadata": {},
   "outputs": [
    {
     "name": "stderr",
     "output_type": "stream",
     "text": [
      "<ipython-input-14-f34f77368e09>:1: SettingWithCopyWarning: \n",
      "A value is trying to be set on a copy of a slice from a DataFrame.\n",
      "Try using .loc[row_indexer,col_indexer] = value instead\n",
      "\n",
      "See the caveats in the documentation: https://pandas.pydata.org/pandas-docs/stable/user_guide/indexing.html#returning-a-view-versus-a-copy\n",
      "  data_clean_df[\"state\"]=data_clean_df[\"state\"].str.strip()\n"
     ]
    }
   ],
   "source": [
    "data_clean_df[\"state\"]=data_clean_df[\"state\"].str.strip()"
   ]
  },
  {
   "cell_type": "code",
   "execution_count": 15,
   "id": "4544d52e",
   "metadata": {},
   "outputs": [],
   "source": [
    "data_final = pd.merge(left = data_clean_df, right= geo_df, on=\"state\", how= \"inner\")"
   ]
  },
  {
   "cell_type": "code",
   "execution_count": 16,
   "id": "43ce1693-2b8f-45e9-b46b-2253596d70dd",
   "metadata": {},
   "outputs": [],
   "source": [
    "data_final[\"Job_Title\"]=data_final[\"Job Title\"].replace({\"-1\": \"NULL\"})"
   ]
  },
  {
   "cell_type": "code",
   "execution_count": 17,
   "id": "75bd1992-d17b-4a3b-bba2-ce083f1778ab",
   "metadata": {},
   "outputs": [],
   "source": [
    "data_final[\"Rating\"]=data_final[\"Rating\"].replace(-1.0, \"NULL\")"
   ]
  },
  {
   "cell_type": "code",
   "execution_count": 18,
   "id": "59691b6d-096c-4e1e-b3fd-11be7c76ca74",
   "metadata": {},
   "outputs": [],
   "source": [
    "data_final[\"Company_Name\"]=data_final[\"Company Name\"].replace(\"-1\", \"NULL\")"
   ]
  },
  {
   "cell_type": "code",
   "execution_count": 19,
   "id": "81e3562c-053e-4090-98b5-f629d630eab3",
   "metadata": {},
   "outputs": [],
   "source": [
    "data_final[\"state\"]=data_final[\"state\"].replace(\"-1\", \"NULL\")"
   ]
  },
  {
   "cell_type": "code",
   "execution_count": 20,
   "id": "226fcc2e-034d-45d5-84f6-35d2ddfafc03",
   "metadata": {},
   "outputs": [],
   "source": [
    "data_final[\"Founded\"]=data_final[\"Founded\"].replace(-1.0, \"NULL\")"
   ]
  },
  {
   "cell_type": "code",
   "execution_count": 22,
   "id": "87a4ef10-371c-4ca8-81c7-4be54965a1e3",
   "metadata": {},
   "outputs": [],
   "source": [
    "data_final[\"avg_Salary\"]=data_final[\"avg_Salary\"].replace(-1.0, \"NULL\")"
   ]
  },
  {
   "cell_type": "code",
   "execution_count": 23,
   "id": "a3096372-1e26-4ed3-a796-9980946ba3f8",
   "metadata": {},
   "outputs": [],
   "source": [
    "data_final[\"avg_size\"]=data_final[\"avg_size\"].replace(\"-1\", \"NULL\")"
   ]
  },
  {
   "cell_type": "code",
   "execution_count": 24,
   "id": "709c61ac-f3f1-4e87-b427-cc25476426cf",
   "metadata": {},
   "outputs": [],
   "source": [
    "data_final[\"Sector\"]=data_final[\"Sector\"].replace(\"-1\", \"NULL\")"
   ]
  },
  {
   "cell_type": "code",
   "execution_count": 25,
   "id": "8f86b53f-da4b-4e96-ae55-84be707a4cfd",
   "metadata": {},
   "outputs": [],
   "source": [
    "data_final[\"name\"]=data_final[\"name\"].replace(\"-1\", \"NULL\")"
   ]
  },
  {
   "cell_type": "code",
   "execution_count": 31,
   "id": "169f2155-4985-4f19-8ac5-7f9b9b5a14da",
   "metadata": {},
   "outputs": [],
   "source": [
    "data_final_df= data_final[[\"name\",\"state\",\"Job_Title\",\"Company_Name\",\"avg_Salary\",\"avg_size\",\"Founded\",\"latitude\",\"longitude\",\"Rating\"]]"
   ]
  },
  {
   "cell_type": "code",
   "execution_count": 32,
   "id": "5c08c3de",
   "metadata": {},
   "outputs": [],
   "source": [
    "data_final_df.to_csv(\"data/data_final.csv\", index =False)"
   ]
  },
  {
   "cell_type": "code",
   "execution_count": null,
   "id": "c0fb9fac-d2f9-4c21-bfaf-b54a880ac1fd",
   "metadata": {},
   "outputs": [],
   "source": []
  }
 ],
 "metadata": {
  "kernelspec": {
   "display_name": "Python 3",
   "language": "python",
   "name": "python3"
  },
  "language_info": {
   "codemirror_mode": {
    "name": "ipython",
    "version": 3
   },
   "file_extension": ".py",
   "mimetype": "text/x-python",
   "name": "python",
   "nbconvert_exporter": "python",
   "pygments_lexer": "ipython3",
   "version": "3.8.8"
  }
 },
 "nbformat": 4,
 "nbformat_minor": 5
}
